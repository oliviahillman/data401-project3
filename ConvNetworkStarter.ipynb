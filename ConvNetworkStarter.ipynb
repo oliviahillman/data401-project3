{
 "cells": [
  {
   "cell_type": "code",
   "execution_count": 1,
   "metadata": {},
   "outputs": [],
   "source": [
    "import tensorflow as tf\n",
    "import numpy as np\n",
    "import pandas as pd"
   ]
  },
  {
   "cell_type": "code",
   "execution_count": 2,
   "metadata": {},
   "outputs": [],
   "source": [
    "from tensorflow.keras.layers import Input, Dense, Conv2D, MaxPool2D, Flatten, Input\n",
    "from tensorflow.keras.models import Model"
   ]
  },
  {
   "cell_type": "code",
   "execution_count": 3,
   "metadata": {},
   "outputs": [],
   "source": [
    "BATCH_SIZE = 32\n",
    "NUM_EPOCHS = 10\n",
    "STEPS_PER_EPOCH = 30\n",
    "START_LEARNING_RATE = 0.01"
   ]
  },
  {
   "cell_type": "code",
   "execution_count": 4,
   "metadata": {},
   "outputs": [],
   "source": [
    "def model_function():\n",
    "    # a layer instance is callable on a tensor, and returns a tensor\n",
    "    model = tf.keras.Sequential([\n",
    "        Conv2D(32, kernel_size=(5, 5), strides=(1, 1),\n",
    "                      data_format='channels_last',\n",
    "                      activation='relu',\n",
    "                      input_shape=(13, 13, 1)),\n",
    "        MaxPool2D(pool_size=(2, 2), strides=(2, 2)),\n",
    "        Conv2D(64, (3, 3), activation='relu'),\n",
    "        MaxPool2D(pool_size=(2, 2)),\n",
    "        Flatten(),\n",
    "        Dense(128, activation='relu'),\n",
    "        Dense(2, activation='softmax')\n",
    "    ])\n",
    "    \n",
    "    model.compile(optimizer=tf.train.AdamOptimizer(START_LEARNING_RATE),\n",
    "              loss='mse',       # mean squared error\n",
    "              metrics=['mae'])  # mean absolute error\n",
    "    \n",
    "    return model"
   ]
  },
  {
   "cell_type": "code",
   "execution_count": 5,
   "metadata": {},
   "outputs": [],
   "source": [
    "model = model_function()"
   ]
  },
  {
   "cell_type": "code",
   "execution_count": 6,
   "metadata": {},
   "outputs": [
    {
     "name": "stdout",
     "output_type": "stream",
     "text": [
      "(1000, 13, 13, 1) (1000, 2)\n",
      "Epoch 1/10\n",
      "30/30 [==============================] - 6s 194ms/step - loss: 0.1198 - mean_absolute_error: 0.2465\n",
      "Epoch 2/10\n",
      "30/30 [==============================] - 5s 159ms/step - loss: 0.0099 - mean_absolute_error: 0.0246\n",
      "Epoch 3/10\n",
      "30/30 [==============================] - 5s 172ms/step - loss: 0.0046 - mean_absolute_error: 0.0136\n",
      "Epoch 4/10\n",
      "30/30 [==============================] - 5s 167ms/step - loss: 0.0033 - mean_absolute_error: 0.0092\n",
      "Epoch 5/10\n",
      "30/30 [==============================] - 5s 165ms/step - loss: 0.0030 - mean_absolute_error: 0.0073\n",
      "Epoch 6/10\n",
      "30/30 [==============================] - 4s 132ms/step - loss: 0.0029 - mean_absolute_error: 0.0067\n",
      "Epoch 7/10\n",
      "30/30 [==============================] - 5s 154ms/step - loss: 0.0029 - mean_absolute_error: 0.0064\n",
      "Epoch 8/10\n",
      "30/30 [==============================] - 5s 155ms/step - loss: 0.0029 - mean_absolute_error: 0.0063\n",
      "Epoch 9/10\n",
      "30/30 [==============================] - 4s 148ms/step - loss: 0.0029 - mean_absolute_error: 0.0062\n",
      "Epoch 10/10\n",
      "30/30 [==============================] - 5s 152ms/step - loss: 0.0029 - mean_absolute_error: 0.0061\n"
     ]
    }
   ],
   "source": [
    "with open('data/board_states.npy', 'rb') as boards_file, \\\n",
    "    open('data/winners.npy', 'rb') as winners_file:\n",
    "    boards = np.load(boards_file)\n",
    "    winners = np.load(winners_file)\n",
    "    \n",
    "    winners_cat = np.array([[1.0, 0.0] if x==1 else [0.0, 1.0] for x in winners])\n",
    "\n",
    "    print(boards[:1000, :, :, :].shape, winners_cat[:1000, :].shape)\n",
    "    \n",
    "    model.fit(boards[:1000, :, :, :], winners_cat[:1000, :], verbose=1,\n",
    "              epochs=NUM_EPOCHS, steps_per_epoch=STEPS_PER_EPOCH)"
   ]
  },
  {
   "cell_type": "code",
   "execution_count": 7,
   "metadata": {},
   "outputs": [
    {
     "name": "stdout",
     "output_type": "stream",
     "text": [
      "(10000, 13, 13, 1) (10000, 1)\n"
     ]
    }
   ],
   "source": [
    "with open('data/board_states.npy', 'rb') as boards_file, \\\n",
    "    open('data/winners.npy', 'rb') as winners_file:\n",
    "    boards = np.load(boards_file)\n",
    "    winners = np.load(winners_file)\n",
    "    \n",
    "    print(boards[10000:20000, :, :, :].shape, winners[10000:20000, :].shape)\n",
    "    \n",
    "#     evaluate = model.evaluate(boards[:10000, :, :, :], winners_cat[10000:20000, :], steps=1)\n",
    "    predict = model.predict(boards[:10000, :, :, :])"
   ]
  },
  {
   "cell_type": "code",
   "execution_count": 8,
   "metadata": {},
   "outputs": [
    {
     "data": {
      "text/plain": [
       "array([[  2.63174647e-03,   9.97368276e-01],\n",
       "       [  5.90052914e-05,   9.99940991e-01],\n",
       "       [  3.04976566e-04,   9.99695063e-01],\n",
       "       [  3.07052018e-04,   9.99692917e-01],\n",
       "       [  2.02814587e-09,   1.00000000e+00],\n",
       "       [  3.37529049e-09,   1.00000000e+00],\n",
       "       [  1.84318436e-10,   1.00000000e+00],\n",
       "       [  8.99321451e-11,   1.00000000e+00],\n",
       "       [  1.86162030e-10,   1.00000000e+00],\n",
       "       [  1.38274947e-11,   1.00000000e+00],\n",
       "       [  3.55532184e-12,   1.00000000e+00],\n",
       "       [  6.34181618e-13,   1.00000000e+00],\n",
       "       [  5.59366134e-04,   9.99440610e-01],\n",
       "       [  1.57402405e-06,   9.99998450e-01],\n",
       "       [  1.23613540e-06,   9.99998808e-01],\n",
       "       [  1.24464032e-05,   9.99987602e-01],\n",
       "       [  1.22978783e-09,   1.00000000e+00],\n",
       "       [  3.29314714e-10,   1.00000000e+00],\n",
       "       [  4.38957434e-16,   1.00000000e+00],\n",
       "       [  2.51902860e-16,   1.00000000e+00],\n",
       "       [  7.01376782e-13,   1.00000000e+00],\n",
       "       [  8.18259509e-14,   1.00000000e+00],\n",
       "       [  6.57556162e-11,   1.00000000e+00],\n",
       "       [  8.24726839e-03,   9.91752803e-01],\n",
       "       [  3.27796116e-03,   9.96722043e-01],\n",
       "       [  3.75380111e-03,   9.96246159e-01],\n",
       "       [  4.23299798e-06,   9.99995708e-01],\n",
       "       [  1.13552376e-08,   1.00000000e+00],\n",
       "       [  2.09392468e-08,   1.00000000e+00],\n",
       "       [  8.20412254e-08,   9.99999881e-01],\n",
       "       [  1.64447622e-10,   1.00000000e+00],\n",
       "       [  7.51666368e-11,   1.00000000e+00],\n",
       "       [  1.41987391e-06,   9.99998569e-01],\n",
       "       [  8.49608696e-05,   9.99915004e-01],\n",
       "       [  7.71729683e-05,   9.99922872e-01],\n",
       "       [  2.49634231e-05,   9.99975085e-01],\n",
       "       [  6.83407595e-14,   1.00000000e+00],\n",
       "       [  2.34503476e-12,   1.00000000e+00],\n",
       "       [  6.81375956e-10,   1.00000000e+00],\n",
       "       [  1.00197388e-08,   1.00000000e+00],\n",
       "       [  4.32219920e-11,   1.00000000e+00],\n",
       "       [  2.49657467e-01,   7.50342488e-01],\n",
       "       [  3.29997540e-01,   6.70002460e-01],\n",
       "       [  5.63175650e-04,   9.99436796e-01],\n",
       "       [  2.15803669e-03,   9.97841954e-01],\n",
       "       [  1.35361315e-05,   9.99986410e-01],\n",
       "       [  2.28494855e-07,   9.99999762e-01],\n",
       "       [  1.84526772e-09,   1.00000000e+00],\n",
       "       [  3.05174872e-08,   1.00000000e+00],\n",
       "       [  2.87861374e-10,   1.00000000e+00],\n",
       "       [  1.09248388e-10,   1.00000000e+00],\n",
       "       [  5.38063649e-10,   1.00000000e+00],\n",
       "       [  3.30330041e-10,   1.00000000e+00],\n",
       "       [  8.01170241e-09,   1.00000000e+00],\n",
       "       [  2.49694221e-09,   1.00000000e+00],\n",
       "       [  7.15460002e-09,   1.00000000e+00],\n",
       "       [  6.71162848e-10,   1.00000000e+00],\n",
       "       [  4.73551531e-10,   1.00000000e+00],\n",
       "       [  4.62127350e-11,   1.00000000e+00],\n",
       "       [  1.55560217e-10,   1.00000000e+00],\n",
       "       [  1.48295595e-11,   1.00000000e+00],\n",
       "       [  3.70173545e-11,   1.00000000e+00],\n",
       "       [  9.42419684e-11,   1.00000000e+00],\n",
       "       [  1.89448723e-08,   1.00000000e+00],\n",
       "       [  1.09051501e-09,   1.00000000e+00],\n",
       "       [  8.09792337e-12,   1.00000000e+00],\n",
       "       [  3.14036730e-09,   1.00000000e+00],\n",
       "       [  8.84819240e-09,   1.00000000e+00],\n",
       "       [  1.46579868e-08,   1.00000000e+00],\n",
       "       [  2.54429767e-12,   1.00000000e+00],\n",
       "       [  1.20317101e-09,   1.00000000e+00],\n",
       "       [  1.33870262e-10,   1.00000000e+00],\n",
       "       [  1.32609193e-11,   1.00000000e+00],\n",
       "       [  6.56641842e-13,   1.00000000e+00],\n",
       "       [  9.26028866e-14,   1.00000000e+00],\n",
       "       [  2.90916027e-13,   1.00000000e+00],\n",
       "       [  9.76520061e-01,   2.34799981e-02],\n",
       "       [  9.99408126e-01,   5.91860618e-04],\n",
       "       [  9.94077682e-01,   5.92229841e-03],\n",
       "       [  9.99965549e-01,   3.44437431e-05],\n",
       "       [  9.95304823e-01,   4.69518686e-03],\n",
       "       [  2.49657467e-01,   7.50342488e-01],\n",
       "       [  3.29997540e-01,   6.70002460e-01],\n",
       "       [  1.09186070e-03,   9.98908162e-01],\n",
       "       [  4.97803032e-01,   5.02196968e-01],\n",
       "       [  9.99612033e-01,   3.87946435e-04],\n",
       "       [  9.99983788e-01,   1.62120377e-05],\n",
       "       [  9.99999285e-01,   7.23241044e-07],\n",
       "       [  9.99995351e-01,   4.59505372e-06],\n",
       "       [  9.99933004e-01,   6.69564834e-05],\n",
       "       [  9.99999762e-01,   2.53494989e-07],\n",
       "       [  9.99999881e-01,   7.57600418e-08],\n",
       "       [  9.99999881e-01,   1.56508335e-07],\n",
       "       [  2.49657467e-01,   7.50342488e-01],\n",
       "       [  3.29997540e-01,   6.70002460e-01],\n",
       "       [  9.99328256e-01,   6.71711692e-04],\n",
       "       [  9.99709904e-01,   2.90033320e-04],\n",
       "       [  9.99402523e-01,   5.97508217e-04],\n",
       "       [  9.99790251e-01,   2.09773862e-04],\n",
       "       [  9.99989510e-01,   1.04416049e-05]], dtype=float32)"
      ]
     },
     "execution_count": 8,
     "metadata": {},
     "output_type": "execute_result"
    }
   ],
   "source": [
    "# evaluate\n",
    "predict[:100]"
   ]
  }
 ],
 "metadata": {
  "kernelspec": {
   "display_name": "Python 3",
   "language": "python",
   "name": "python3"
  },
  "language_info": {
   "codemirror_mode": {
    "name": "ipython",
    "version": 3
   },
   "file_extension": ".py",
   "mimetype": "text/x-python",
   "name": "python",
   "nbconvert_exporter": "python",
   "pygments_lexer": "ipython3",
   "version": "3.6.5"
  }
 },
 "nbformat": 4,
 "nbformat_minor": 2
}

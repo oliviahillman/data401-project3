{
 "cells": [
  {
   "cell_type": "code",
   "execution_count": 1,
   "metadata": {},
   "outputs": [],
   "source": [
    "import tensorflow as tf\n",
    "import numpy as np\n",
    "import pandas as pd"
   ]
  },
  {
   "cell_type": "code",
   "execution_count": 2,
   "metadata": {},
   "outputs": [],
   "source": [
    "from tensorflow.keras.layers import Input, Dense, Conv2D, MaxPool2D, Flatten, Input\n",
    "from tensorflow.keras.models import Model"
   ]
  },
  {
   "cell_type": "code",
   "execution_count": 3,
   "metadata": {},
   "outputs": [],
   "source": [
    "BATCH_SIZE = 32\n",
    "NUM_EPOCHS = 10\n",
    "STEPS_PER_EPOCH = 30\n",
    "START_LEARNING_RATE = 0.01"
   ]
  },
  {
   "cell_type": "code",
   "execution_count": 4,
   "metadata": {},
   "outputs": [],
   "source": [
    "def model_function():\n",
    "    # a layer instance is callable on a tensor, and returns a tensor\n",
    "    model = tf.keras.Sequential([\n",
    "        Conv2D(32, kernel_size=(5, 5), strides=(1, 1),\n",
    "                      data_format='channels_last',\n",
    "                      activation='relu',\n",
    "                      input_shape=(13, 13, 1)),\n",
    "        MaxPool2D(pool_size=(2, 2), strides=(2, 2)),\n",
    "        Conv2D(64, (3, 3), activation='relu'),\n",
    "        MaxPool2D(pool_size=(2, 2)),\n",
    "        Flatten(),\n",
    "        Dense(128, activation='relu'),\n",
    "        Dense(1, activation='relu')\n",
    "    ])\n",
    "    \n",
    "    model.compile(optimizer=tf.train.AdamOptimizer(START_LEARNING_RATE),\n",
    "              loss='mse',       # mean squared error\n",
    "              metrics=['mae'])  # mean absolute error\n",
    "    \n",
    "    return model"
   ]
  },
  {
   "cell_type": "code",
   "execution_count": 5,
   "metadata": {},
   "outputs": [],
   "source": [
    "model = model_function()"
   ]
  },
  {
   "cell_type": "code",
   "execution_count": 9,
   "metadata": {},
   "outputs": [
    {
     "name": "stdout",
     "output_type": "stream",
     "text": [
      "(10000, 13, 13, 1) (10000, 1)\n",
      "Epoch 1/10\n",
      "30/30 [==============================] - 11s 380ms/step - loss: 0.2255 - mean_absolute_error: 0.4438\n",
      "Epoch 2/10\n",
      "30/30 [==============================] - 13s 438ms/step - loss: 0.2133 - mean_absolute_error: 0.4086\n",
      "Epoch 3/10\n",
      "30/30 [==============================] - 12s 390ms/step - loss: 0.0964 - mean_absolute_error: 0.2390\n",
      "Epoch 4/10\n",
      "30/30 [==============================] - 13s 442ms/step - loss: 0.0648 - mean_absolute_error: 0.1691\n",
      "Epoch 5/10\n",
      "30/30 [==============================] - 11s 383ms/step - loss: 0.0429 - mean_absolute_error: 0.1236\n",
      "Epoch 6/10\n",
      "30/30 [==============================] - 12s 393ms/step - loss: 0.0312 - mean_absolute_error: 0.0973\n",
      "Epoch 7/10\n",
      "30/30 [==============================] - 12s 405ms/step - loss: 0.0261 - mean_absolute_error: 0.0844\n",
      "Epoch 8/10\n",
      "30/30 [==============================] - 12s 408ms/step - loss: 0.0228 - mean_absolute_error: 0.0759\n",
      "Epoch 9/10\n",
      "30/30 [==============================] - 13s 430ms/step - loss: 0.0207 - mean_absolute_error: 0.0699\n",
      "Epoch 10/10\n",
      "30/30 [==============================] - 12s 394ms/step - loss: 0.0191 - mean_absolute_error: 0.0650\n"
     ]
    }
   ],
   "source": [
    "with open('data/board_states.npy', 'rb') as boards_file, \\\n",
    "    open('data/winners.npy', 'rb') as winners_file:\n",
    "    boards = np.load(boards_file)\n",
    "    winners = np.load(winners_file)\n",
    "    \n",
    "    print(boards[:10000, :, :, :].shape, winners[:10000, :].shape)\n",
    "    \n",
    "    model.fit(boards[:10000, :, :, :], winners[:10000, :], verbose=1,\n",
    "              epochs=NUM_EPOCHS, steps_per_epoch=STEPS_PER_EPOCH)"
   ]
  },
  {
   "cell_type": "code",
   "execution_count": null,
   "metadata": {},
   "outputs": [],
   "source": []
  }
 ],
 "metadata": {
  "kernelspec": {
   "display_name": "Python 3",
   "language": "python",
   "name": "python3"
  },
  "language_info": {
   "codemirror_mode": {
    "name": "ipython",
    "version": 3
   },
   "file_extension": ".py",
   "mimetype": "text/x-python",
   "name": "python",
   "nbconvert_exporter": "python",
   "pygments_lexer": "ipython3",
   "version": "3.6.5"
  }
 },
 "nbformat": 4,
 "nbformat_minor": 2
}

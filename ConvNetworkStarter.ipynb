{
 "cells": [
  {
   "cell_type": "code",
   "execution_count": 10,
   "metadata": {},
   "outputs": [],
   "source": [
    "import tensorflow as tf\n",
    "import numpy as np\n",
    "import pandas as pd"
   ]
  },
  {
   "cell_type": "code",
   "execution_count": 11,
   "metadata": {},
   "outputs": [],
   "source": [
    "from tensorflow.keras.layers import Input, Dense, Conv2D, MaxPool2D, Flatten, Input\n",
    "from tensorflow.keras.models import Model"
   ]
  },
  {
   "cell_type": "code",
   "execution_count": 12,
   "metadata": {},
   "outputs": [],
   "source": [
    "BATCH_SIZE = 1000\n",
    "NUM_EPOCHS = 10\n",
    "#STEPS_PER_EPOCH = 30\n",
    "START_LEARNING_RATE = 0.003"
   ]
  },
  {
   "cell_type": "code",
   "execution_count": 13,
   "metadata": {},
   "outputs": [],
   "source": [
    "# def model_function():\n",
    "#     # a layer instance is callable on a tensor, and returns a tensor\n",
    "#     model = tf.keras.Sequential([\n",
    "#         Conv2D(32, kernel_size=(5, 5), strides=(1, 1),\n",
    "#                       data_format='channels_last',\n",
    "#                       activation='relu',\n",
    "#                       input_shape=(13, 13, 1)),\n",
    "#         MaxPool2D(pool_size=(2, 2), strides=(2, 2)),\n",
    "#         Conv2D(64, (3, 3), activation='relu'),\n",
    "#         MaxPool2D(pool_size=(2, 2)),\n",
    "#         Flatten(),\n",
    "#         Dense(128, activation='relu'),\n",
    "#         Dense(2, activation='softmax')\n",
    "#     ])\n",
    "    \n",
    "#     model.compile(optimizer=tf.train.AdamOptimizer(START_LEARNING_RATE),\n",
    "#               loss='mse',       # mean squared error\n",
    "#               metrics=['mae'])  # mean absolute error\n",
    "    \n",
    "#     return model"
   ]
  },
  {
   "cell_type": "code",
   "execution_count": 16,
   "metadata": {},
   "outputs": [],
   "source": [
    "SAMPLE_SIZE = 10000"
   ]
  },
  {
   "cell_type": "code",
   "execution_count": 17,
   "metadata": {},
   "outputs": [
    {
     "name": "stdout",
     "output_type": "stream",
     "text": [
      "(10000, 13, 13, 2) (10000, 1)\n"
     ]
    }
   ],
   "source": [
    "with open('data/board_states.npy', 'rb') as boards_file, \\\n",
    "    open('data/winners.npy', 'rb') as winners_file:\n",
    "    boards = np.load(boards_file)\n",
    "    winners = np.load(winners_file)\n",
    "\n",
    "\n",
    "#     winners_cat = np.array([[1.0, 0.0] if x==1 else [0.0, 1.0] for x in winners])\n",
    "\n",
    "#     print(boards[:SAMPLE_SIZE, :, :, :].shape, winners_cat[:SAMPLE_SIZE, :].shape)\n",
    "    print(boards[:SAMPLE_SIZE, :, :, :].shape, winners[:SAMPLE_SIZE, :].shape)\n",
    "    \n",
    "#     nums = np.arange(len(winners_cat))\n",
    "    nums = np.arange(len(winners))\n",
    "    np.random.shuffle(nums)\n",
    "    X_train =  boards[nums[:SAMPLE_SIZE],:,:,:]\n",
    "#     y_train = winners_cat[nums[:SAMPLE_SIZE],:]\n",
    "    y_train = winners[nums[:SAMPLE_SIZE],:]\n",
    "    \n",
    "    X_test =  boards[nums[SAMPLE_SIZE:(2*SAMPLE_SIZE)],:,:,:]\n",
    "#     y_test = winners_cat[nums[SAMPLE_SIZE:(2*SAMPLE_SIZE)],:]\n",
    "    y_test = winners[nums[SAMPLE_SIZE:(2*SAMPLE_SIZE)],:]"
   ]
  },
  {
   "cell_type": "code",
   "execution_count": 21,
   "metadata": {},
   "outputs": [],
   "source": [
    "def model_function():\n",
    "    # a layer instance is callable on a tensor, and returns a tensor\n",
    "    model = tf.keras.Sequential([\n",
    "        Conv2D(64, kernel_size=(5, 5), strides=(1, 1),\n",
    "                      data_format='channels_last',\n",
    "                      activation='relu',\n",
    "                      input_shape=(13, 13, 2)),\n",
    "        MaxPool2D(pool_size=(2, 2), strides=(2, 2)),\n",
    "        Flatten(),\n",
    "        Dense(128, activation='relu'),\n",
    "        Dense(1, activation='sigmoid')\n",
    "    ])\n",
    "    \n",
    "    model.compile(optimizer=tf.train.AdamOptimizer(START_LEARNING_RATE),\n",
    "              loss='mse',       # mean squared error\n",
    "              metrics=['mae'])  # mean absolute error\n",
    "    \n",
    "    return model"
   ]
  },
  {
   "cell_type": "code",
   "execution_count": 22,
   "metadata": {},
   "outputs": [],
   "source": [
    "model = model_function()"
   ]
  },
  {
   "cell_type": "code",
   "execution_count": 23,
   "metadata": {},
   "outputs": [
    {
     "name": "stdout",
     "output_type": "stream",
     "text": [
      "Epoch 1/10\n",
      "10000/10000 [==============================] - 1s 104us/step - loss: 0.2516 - mean_absolute_error: 0.4973\n",
      "Epoch 2/10\n",
      "10000/10000 [==============================] - 1s 59us/step - loss: 0.2451 - mean_absolute_error: 0.4941\n",
      "Epoch 3/10\n",
      "10000/10000 [==============================] - 1s 57us/step - loss: 0.2360 - mean_absolute_error: 0.4782\n",
      "Epoch 4/10\n",
      "10000/10000 [==============================] - 1s 50us/step - loss: 0.2282 - mean_absolute_error: 0.4598\n",
      "Epoch 5/10\n",
      "10000/10000 [==============================] - 0s 45us/step - loss: 0.2192 - mean_absolute_error: 0.4491\n",
      "Epoch 6/10\n",
      "10000/10000 [==============================] - 0s 42us/step - loss: 0.2121 - mean_absolute_error: 0.4345\n",
      "Epoch 7/10\n",
      "10000/10000 [==============================] - 0s 47us/step - loss: 0.2064 - mean_absolute_error: 0.4209\n",
      "Epoch 8/10\n",
      "10000/10000 [==============================] - 1s 57us/step - loss: 0.1982 - mean_absolute_error: 0.4130\n",
      "Epoch 9/10\n",
      "10000/10000 [==============================] - 1s 55us/step - loss: 0.1904 - mean_absolute_error: 0.3999\n",
      "Epoch 10/10\n",
      "10000/10000 [==============================] - 1s 52us/step - loss: 0.1844 - mean_absolute_error: 0.3865\n"
     ]
    },
    {
     "data": {
      "text/plain": [
       "<tensorflow.python.keras.callbacks.History at 0x7fdb2f359630>"
      ]
     },
     "execution_count": 23,
     "metadata": {},
     "output_type": "execute_result"
    }
   ],
   "source": [
    "model.fit(X_train,y_train, verbose=1, batch_size = BATCH_SIZE,\n",
    "              epochs=NUM_EPOCHS)"
   ]
  },
  {
   "cell_type": "code",
   "execution_count": 24,
   "metadata": {},
   "outputs": [],
   "source": [
    "with open('data/board_states.npy', 'rb') as boards_file, \\\n",
    "    open('data/winners.npy', 'rb') as winners_file:\n",
    "    boards = np.load(boards_file)\n",
    "    winners = np.load(winners_file)\n",
    "    \n",
    "    #print(boards[10000:20000, :, :, :].shape, winners[100000:20000, :].shape)\n",
    "    \n",
    "#     evaluate = model.evaluate(boards[:10000, :, :, :], winners_cat[10000:20000, :], steps=1)\n",
    "    predict = model.predict(X_test)"
   ]
  },
  {
   "cell_type": "code",
   "execution_count": 25,
   "metadata": {
    "scrolled": true
   },
   "outputs": [
    {
     "data": {
      "text/plain": [
       "array([[ 0.2511903 ],\n",
       "       [ 0.67165315],\n",
       "       [ 0.90900093],\n",
       "       [ 0.4993017 ],\n",
       "       [ 0.32934493],\n",
       "       [ 0.27288368],\n",
       "       [ 0.29702193],\n",
       "       [ 0.42745867],\n",
       "       [ 0.66244137],\n",
       "       [ 0.45470643],\n",
       "       [ 0.63939136],\n",
       "       [ 0.32507771],\n",
       "       [ 0.77852339],\n",
       "       [ 0.64732587],\n",
       "       [ 0.71241826],\n",
       "       [ 0.41546199],\n",
       "       [ 0.43205884],\n",
       "       [ 0.60058057],\n",
       "       [ 0.72095925],\n",
       "       [ 0.54298031],\n",
       "       [ 0.59740633],\n",
       "       [ 0.46671903],\n",
       "       [ 0.28753692],\n",
       "       [ 0.71875101],\n",
       "       [ 0.81503791],\n",
       "       [ 0.50880641],\n",
       "       [ 0.40846872],\n",
       "       [ 0.67953128],\n",
       "       [ 0.7246713 ],\n",
       "       [ 0.76082623],\n",
       "       [ 0.73013341],\n",
       "       [ 0.61828047],\n",
       "       [ 0.47770268],\n",
       "       [ 0.79134959],\n",
       "       [ 0.4563179 ],\n",
       "       [ 0.73372632],\n",
       "       [ 0.29180336],\n",
       "       [ 0.39746425],\n",
       "       [ 0.65499246],\n",
       "       [ 0.38354886],\n",
       "       [ 0.46366486],\n",
       "       [ 0.49303558],\n",
       "       [ 0.50991178],\n",
       "       [ 0.17880134],\n",
       "       [ 0.68396199],\n",
       "       [ 0.56920242],\n",
       "       [ 0.32006267],\n",
       "       [ 0.61920261],\n",
       "       [ 0.92066836],\n",
       "       [ 0.6818518 ],\n",
       "       [ 0.60654539],\n",
       "       [ 0.34063482],\n",
       "       [ 0.90508711],\n",
       "       [ 0.23211399],\n",
       "       [ 0.24227956],\n",
       "       [ 0.60927415],\n",
       "       [ 0.70740479],\n",
       "       [ 0.273947  ],\n",
       "       [ 0.28243986],\n",
       "       [ 0.11838089],\n",
       "       [ 0.23516405],\n",
       "       [ 0.346513  ],\n",
       "       [ 0.42807424],\n",
       "       [ 0.5116474 ],\n",
       "       [ 0.54180497],\n",
       "       [ 0.33379108],\n",
       "       [ 0.3813751 ],\n",
       "       [ 0.52029043],\n",
       "       [ 0.3867799 ],\n",
       "       [ 0.21123512],\n",
       "       [ 0.23175232],\n",
       "       [ 0.32669252],\n",
       "       [ 0.34592932],\n",
       "       [ 0.36365333],\n",
       "       [ 0.26458627],\n",
       "       [ 0.66352916],\n",
       "       [ 0.18294165],\n",
       "       [ 0.76642764],\n",
       "       [ 0.74687082],\n",
       "       [ 0.56393951],\n",
       "       [ 0.37035182],\n",
       "       [ 0.84137899],\n",
       "       [ 0.71958339],\n",
       "       [ 0.47770268],\n",
       "       [ 0.18391699],\n",
       "       [ 0.32969204],\n",
       "       [ 0.32650775],\n",
       "       [ 0.49072689],\n",
       "       [ 0.77111864],\n",
       "       [ 0.50047797],\n",
       "       [ 0.32417879],\n",
       "       [ 0.38568622],\n",
       "       [ 0.6310119 ],\n",
       "       [ 0.4488636 ],\n",
       "       [ 0.88905913],\n",
       "       [ 0.48273396],\n",
       "       [ 0.74736696],\n",
       "       [ 0.32984877],\n",
       "       [ 0.50741446],\n",
       "       [ 0.77613366]], dtype=float32)"
      ]
     },
     "execution_count": 25,
     "metadata": {},
     "output_type": "execute_result"
    }
   ],
   "source": [
    "# evaluate\n",
    "predict[:100]"
   ]
  },
  {
   "cell_type": "code",
   "execution_count": null,
   "metadata": {},
   "outputs": [],
   "source": []
  },
  {
   "cell_type": "code",
   "execution_count": null,
   "metadata": {},
   "outputs": [],
   "source": []
  },
  {
   "cell_type": "code",
   "execution_count": null,
   "metadata": {},
   "outputs": [],
   "source": []
  }
 ],
 "metadata": {
  "kernelspec": {
   "display_name": "Python 3",
   "language": "python",
   "name": "python3"
  },
  "language_info": {
   "codemirror_mode": {
    "name": "ipython",
    "version": 3
   },
   "file_extension": ".py",
   "mimetype": "text/x-python",
   "name": "python",
   "nbconvert_exporter": "python",
   "pygments_lexer": "ipython3",
   "version": "3.6.5"
  }
 },
 "nbformat": 4,
 "nbformat_minor": 2
}

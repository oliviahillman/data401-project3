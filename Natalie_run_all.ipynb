{
 "cells": [
  {
   "cell_type": "code",
   "execution_count": 1,
   "metadata": {},
   "outputs": [],
   "source": [
    "import tensorflow as tf\n",
    "import numpy as np\n",
    "import pandas as pd\n",
    "\n",
    "from tensorflow.keras.layers import Input, Dense, Conv2D, MaxPool2D, Flatten, Input\n",
    "from tensorflow.keras.models import Model\n",
    "from sklearn.metrics import r2_score"
   ]
  },
  {
   "cell_type": "code",
   "execution_count": 2,
   "metadata": {},
   "outputs": [
    {
     "name": "stdout",
     "output_type": "stream",
     "text": [
      "(1489941, 13, 13, 3) (1489941, 1)\n",
      "(100000, 13, 13, 3) (100000, 1)\n"
     ]
    }
   ],
   "source": [
    "with open('data/board_states.npy', 'rb') as boards_file, \\\n",
    "    open('data/winners.npy', 'rb') as winners_file:\n",
    "    boards = np.load(boards_file)\n",
    "    shape = boards.shape\n",
    "    boards = np.array([np.subtract(x[:,:,0], x[:,:,1]) for x in boards]).reshape((shape[0], shape[1], shape[2], 1))\n",
    "    boards_3 = np.tile(boards,3)\n",
    "    winners = np.load(winners_file)\n",
    "    \n",
    "    nums = np.arange(len(winners))\n",
    "    np.random.shuffle(nums)\n",
    "    X_test = boards_3[nums[:100000],:,:,:]\n",
    "    y_test = winners[nums[:100000],:]\n",
    "\n",
    "    print(boards_3.shape, winners.shape)\n",
    "    print(X_test.shape, y_test.shape)"
   ]
  },
  {
   "cell_type": "code",
   "execution_count": 3,
   "metadata": {},
   "outputs": [],
   "source": [
    "START_LEARNING_RATE = 0.0024787521766663585\n",
    "NUM_EPOCHS = 10\n",
    "BATCH_SIZE = 1000\n",
    "\n",
    "def model_function():\n",
    "    # a layer instance is callable on a tensor, and returns a tensor\n",
    "    model = tf.keras.Sequential([\n",
    "        Conv2D(16, kernel_size=(2,2), strides=(1,1),\n",
    "                      data_format='channels_last',\n",
    "                      activation='relu',\n",
    "                      input_shape=(13, 13, 3)),\n",
    "        MaxPool2D(pool_size=(2, 2), strides=(2, 2)),\n",
    "        Conv2D(256, kernel_size=(3,3), strides=(1,1),\n",
    "                      activation='relu'),\n",
    "        MaxPool2D(pool_size=(2, 2), strides=(2, 2)),\n",
    "        Flatten(),\n",
    "        Dense(32, activation='relu'),\n",
    "        Dense(1, activation='sigmoid')\n",
    "    ])\n",
    "    \n",
    "    model.compile(optimizer=tf.train.AdamOptimizer(START_LEARNING_RATE),\n",
    "              loss=tf.keras.losses.binary_crossentropy,       # mean squared error\n",
    "              metrics=['accuracy'])  # mean absolute error\n",
    "    \n",
    "    return model"
   ]
  },
  {
   "cell_type": "code",
   "execution_count": null,
   "metadata": {},
   "outputs": [
    {
     "name": "stdout",
     "output_type": "stream",
     "text": [
      "Epoch 1/10\n",
      "1489941/1489941 [==============================] - 184s 124us/step - loss: 0.5719 - acc: 0.6918\n",
      "Epoch 2/10\n",
      "1489941/1489941 [==============================] - 317s 212us/step - loss: 0.4840 - acc: 0.7557\n",
      "Epoch 3/10\n",
      "1489941/1489941 [==============================] - 303s 203us/step - loss: 0.4367 - acc: 0.7830\n",
      "Epoch 4/10\n",
      "1489941/1489941 [==============================] - 298s 200us/step - loss: 0.4088 - acc: 0.7977\n",
      "Epoch 5/10\n",
      "1323000/1489941 [=========================>....] - ETA: 33s - loss: 0.3914 - acc: 0.8068"
     ]
    }
   ],
   "source": [
    "model = model_function()\n",
    "model.fit(boards_3,winners, verbose=1, batch_size = BATCH_SIZE,\n",
    "              epochs=NUM_EPOCHS)"
   ]
  },
  {
   "cell_type": "code",
   "execution_count": 11,
   "metadata": {},
   "outputs": [
    {
     "name": "stdout",
     "output_type": "stream",
     "text": [
      "WARNING:tensorflow:TensorFlow optimizers do not make it possible to access optimizer attributes or optimizer state after instantiation. As a result, we cannot save the optimizer as part of the model save file.You will have to compile your model again after loading it. Prefer using a Keras optimizer instead (see keras.io/optimizers).\n"
     ]
    }
   ],
   "source": [
    "model.save(\"./natalie_model_final\")"
   ]
  },
  {
   "cell_type": "code",
   "execution_count": 12,
   "metadata": {},
   "outputs": [],
   "source": [
    "model.save_weights(\"./natalie_model_final_weights\")"
   ]
  },
  {
   "cell_type": "code",
   "execution_count": 13,
   "metadata": {},
   "outputs": [
    {
     "name": "stdout",
     "output_type": "stream",
     "text": [
      "100000/100000 [==============================] - 7s 65us/step\n",
      "Loss:  0.106042401269\n"
     ]
    }
   ],
   "source": [
    "evaluate = model.evaluate(X_test, y_test, batch_size = BATCH_SIZE)\n",
    "print(\"Loss: \", evaluate[0])"
   ]
  },
  {
   "cell_type": "code",
   "execution_count": 14,
   "metadata": {},
   "outputs": [
    {
     "name": "stdout",
     "output_type": "stream",
     "text": [
      "R^2:  0.575830364795\n"
     ]
    }
   ],
   "source": [
    "predict = model.predict(X_test)\n",
    "print(\"R^2: \", r2_score(y_test, predict))"
   ]
  },
  {
   "cell_type": "code",
   "execution_count": 20,
   "metadata": {},
   "outputs": [],
   "source": [
    "predict = model.predict(boards_3)"
   ]
  },
  {
   "cell_type": "code",
   "execution_count": 20,
   "metadata": {},
   "outputs": [
    {
     "name": "stdout",
     "output_type": "stream",
     "text": [
      "R^2:  0.513955074774\n"
     ]
    }
   ],
   "source": [
    "print(\"R^2: \", r2_score(winners, predict))"
   ]
  },
  {
   "cell_type": "code",
   "execution_count": 21,
   "metadata": {},
   "outputs": [],
   "source": [
    "x=np.sum(np.abs(np.subtract(np.rint(predict),winners)))"
   ]
  },
  {
   "cell_type": "code",
   "execution_count": 22,
   "metadata": {},
   "outputs": [
    {
     "data": {
      "text/plain": [
       "0.84715770624474396"
      ]
     },
     "execution_count": 22,
     "metadata": {},
     "output_type": "execute_result"
    }
   ],
   "source": [
    "1- x/len(winners)"
   ]
  },
  {
   "cell_type": "code",
   "execution_count": null,
   "metadata": {},
   "outputs": [],
   "source": []
  }
 ],
 "metadata": {
  "kernelspec": {
   "display_name": "Python 3",
   "language": "python",
   "name": "python3"
  },
  "language_info": {
   "codemirror_mode": {
    "name": "ipython",
    "version": 3
   },
   "file_extension": ".py",
   "mimetype": "text/x-python",
   "name": "python",
   "nbconvert_exporter": "python",
   "pygments_lexer": "ipython3",
   "version": "3.6.5"
  }
 },
 "nbformat": 4,
 "nbformat_minor": 2
}

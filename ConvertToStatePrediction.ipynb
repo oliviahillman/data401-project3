{
 "cells": [
  {
   "cell_type": "code",
   "execution_count": 1,
   "metadata": {},
   "outputs": [],
   "source": [
    "import pandas as pd\n",
    "import numpy as np\n",
    "import re\n",
    "import tensorflow as tf"
   ]
  },
  {
   "cell_type": "code",
   "execution_count": 2,
   "metadata": {},
   "outputs": [],
   "source": [
    "DATA_CSV = \"/home/jovyan/data400_share/share/hex_scrapes/joineddata.csv\"\n",
    "OUTPUT_TF_RECORD = \"data/full_dataset.tfrecord\"\n",
    "\n",
    "SPLIT_RE = re.compile(r\"(\\*|[a-zA-Z][0-9]+)\")\n",
    "\n",
    "BLACK = 1\n",
    "WHITE = 2"
   ]
  },
  {
   "cell_type": "code",
   "execution_count": 3,
   "metadata": {},
   "outputs": [],
   "source": [
    "def nice_pos_to_loc(pos_str):\n",
    "    if pos_str != '*':\n",
    "        alpha_val = ord(pos_str[0].lower()) - 96\n",
    "        return (alpha_val, int(pos_str[1:]))\n",
    "    else:\n",
    "        return (pos_str, None)\n",
    "    \n",
    "def dec(t):\n",
    "    return (t[0] - 1, t[1] - 1)\n",
    "\n",
    "def swap(t):\n",
    "    return (t[1], t[0])\n",
    "\n",
    "def row_to_features(row):\n",
    "    move_list = row[1][4]\n",
    "    moves = list(map(nice_pos_to_loc, filter(lambda s: len(s) > 0, SPLIT_RE.split(move_list))))\n",
    "    \n",
    "    board = np.zeros((13, 13), dtype=np.int8)\n",
    "    current_player = BLACK\n",
    "    if len(moves) > 1 and moves[1][0] == '*':\n",
    "        board[swap(dec(moves[0]))] = WHITE\n",
    "\n",
    "        moves = moves[2:]\n",
    "        current_player = BLACK\n",
    "    else:\n",
    "        board[dec(moves[0])] = BLACK\n",
    "\n",
    "        moves = moves[1:]\n",
    "        current_player = WHITE\n",
    "        \n",
    "    for move in moves:\n",
    "        board[dec(move)] = current_player\n",
    "        \n",
    "        if current_player == WHITE:\n",
    "            current_player = BLACK\n",
    "        else:\n",
    "            current_player = WHITE\n",
    "    \n",
    "    winner = WHITE if row[1][5] == 'white' else BLACK\n",
    "    \n",
    "    winner_feature = tf.train.Feature(bytes_list=tf.train.BytesList(value=[bytes([winner])]))\n",
    "    board_feature = tf.train.Feature(bytes_list=tf.train.BytesList(value=[bytes(board.flatten())]))\n",
    "    \n",
    "    return {\n",
    "        'winner': winner_feature,\n",
    "        'board': board_feature\n",
    "    }"
   ]
  },
  {
   "cell_type": "code",
   "execution_count": 4,
   "metadata": {},
   "outputs": [],
   "source": [
    "df = pd.read_csv(DATA_CSV).astype({'gid': np.int64}).set_index('gid')\n",
    "\n",
    "with tf.python_io.TFRecordWriter(OUTPUT_TF_RECORD) as writer:\n",
    "    for row in df.iterrows():\n",
    "        features = tf.train.Features(feature=row_to_features(row))\n",
    "        example = tf.train.Example(features=features)\n",
    "        \n",
    "        writer.write(example.SerializeToString())"
   ]
  }
 ],
 "metadata": {
  "kernelspec": {
   "display_name": "Python 3",
   "language": "python",
   "name": "python3"
  },
  "language_info": {
   "codemirror_mode": {
    "name": "ipython",
    "version": 3
   },
   "file_extension": ".py",
   "mimetype": "text/x-python",
   "name": "python",
   "nbconvert_exporter": "python",
   "pygments_lexer": "ipython3",
   "version": "3.6.5"
  }
 },
 "nbformat": 4,
 "nbformat_minor": 2
}
